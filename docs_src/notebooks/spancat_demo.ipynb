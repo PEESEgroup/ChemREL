{
 "cells": [
  {
   "cell_type": "markdown",
   "id": "b5134f4d403d69e",
   "metadata": {
    "jupyter": {
     "outputs_hidden": false
    }
   },
   "source": [
    "# Span Categorization Demo: Glass Transition Temperature\n",
    "\n",
    "In this notebook, we demonstrate an example of training ChemREL to identify and extract a new chemical property, the glass transition temperature $(T_g)$, on polymer compounds."
   ]
  },
  {
   "cell_type": "markdown",
   "id": "a96f82a7968a52c9",
   "metadata": {},
   "source": [
    ":::{tip}\n",
    "To run a copy of this notebook yourself, download the corresponding `spancat_demo.ipynb` file [here](https://github.com/PEESEgroup/ChemREL/blob/main/docs_src/notebooks/spancat_demo.ipynb).\n",
    ":::"
   ]
  },
  {
   "cell_type": "markdown",
   "id": "b62bc18d4f499f78",
   "metadata": {},
   "source": [
    "## Setup\n",
    "\n",
    "In this demo, we will train a new Tok2Vec span categorization model to label polymers and glass transition temperature values in text extracted from research literature.\n",
    "\n",
    "Before beginning the demo, ensure that ChemREL is properly installed and that your command line is focused to the ChemREL Initial Directory you configured when first installing the package.\n"
   ]
  },
  {
   "cell_type": "markdown",
   "id": "d9b8a97f2aedee3d",
   "metadata": {},
   "source": [
    "## Data Preparation\n",
    "\n",
    "Before labeling any data, we will first need to source the data from research texts. To this end, we will extract sample data from a paper hosted on Elsevier. Alternatively, you may supply your own data in PDF form and run the `chemrel aux extract-paper` command instead. This demo will use the following text as an example data source.\n",
    "\n",
    "+ [https://doi.org/10.1016/j.nocx.2022.100084](https://doi.org/10.1016/j.nocx.2022.100084)\n",
    "\n",
    "To download hosted papers from Elsevier using ChemREL, you will need an Elsevier API key. If you do not have one already, request a key at the [Elsevier Developer Portal](https://dev.elsevier.com/).\n",
    "\n",
    "Once you have obtained a key, replace `[API Key]` with your personal key, and run the following command to generate a JSONL data file from the chosen paper."
   ]
  },
  {
   "cell_type": "code",
   "execution_count": 1,
   "id": "2e1945ca63b86077",
   "metadata": {},
   "outputs": [],
   "source": "!chemrel aux extract-elsevier-paper 10.1016/j.nocx.2022.100084 [API Key] ./assets/tg_data.jsonl"
  },
  {
   "cell_type": "markdown",
   "id": "c70ea65d52e95f67",
   "metadata": {},
   "source": [
    "## Labeling with Prodigy\n",
    "\n",
    "Now that we have generated our JSONL file `tg_data.jsonl` containing the necessary data from our paper, it's time to label the property/value spans found in the text. For labelling spans, we recommend using [Prodigy](https://prodi.gy/), an easy-to-use data annotation tool. While using Prodigy is not required, note that ChemREL expects all training data to conform to [Spacy's binary data formats](https://spacy.io/api/data-formats#training). If using another annotation strategy, be sure that all data fed into ChemREL is in this format."
   ]
  },
  {
   "cell_type": "markdown",
   "id": "4e9a0041f16ad6d3",
   "metadata": {},
   "source": [
    "### Prodigy Installation\n",
    "\n",
    "After obtaining a Prodigy license, you can install the Prodigy PyPI package [here](https://prodi.gy/docs/install). It's recommended that you do so in a virtual environment for ease of management.\n",
    "\n",
    "Once you have installed Prodigy or another data annotation tool, proceed below. From this point forward, we will assume that the virtual environment in which Prodigy is installed is active, and that the `prodigy` command is usable in the command line."
   ]
  },
  {
   "cell_type": "markdown",
   "id": "77e9ba72600794cb",
   "metadata": {},
   "source": [
    "## Annotating Spans\n",
    "\n",
    "We will now annotate polymer compound names and their corresponding glass transition temperatures in the extracted `tg_data.jsonl` file. We will assign polymer compound names and transition temperature values the labels `POLYMER` and `TG`, respectively, and save the annotations to a new Prodigy dataset `tg`. To do so, run the following command.\n",
    "\n",
    "Note: The command can be further customized as appropriate according to the Prodigy [spans recipe documentation](https://prodi.gy/docs/recipes#spans)."
   ]
  },
  {
   "cell_type": "code",
   "execution_count": 2,
   "id": "2a204d2b5cb9fb73",
   "metadata": {},
   "outputs": [
    {
     "name": "stdout",
     "output_type": "stream",
     "text": [
      "Using 2 label(s): POLYMER, TG\n",
      "Added dataset tg to database SQLite.\n",
      "\n",
      "✨  Starting the web server at http://localhost:8080 ...\n",
      "Open the app in your browser and start annotating!\n",
      "\n",
      "^C\n",
      "\n",
      "\u001B[38;5;2m✔ Saved 185 annotations to database SQLite\u001B[0m\n",
      "Dataset: tg\n",
      "Session ID: 2024-04-15_08-36-39\n",
      "\n"
     ]
    }
   ],
   "source": [
    "!python -m prodigy spans.manual tg blank:en assets/tg_data.jsonl --label POLYMER,TG"
   ]
  },
  {
   "cell_type": "markdown",
   "id": "ffe01b886bd40dc1",
   "metadata": {},
   "source": [
    "Now, open the web server URL outputted above, and begin highlighting the polymer and glass transition temperature spans according to their corresponding labels. Once all data samples have been labeled, save the annotations with the key command `Ctrl-S` or `Cmd-S` as appropriate, and interrupt the kernel to end the annotation session.\n",
    "\n",
    "For a more detailed reference on the Prodigy annotation process, see the Prodigy span categorization documentation [here](https://prodi.gy/docs/span-categorization).\n",
    "\n",
    "Next, to generate a Spacy binary data file, we will run Prodigy's `data-to-spacy` command to generate training and development dataset files, or `train.spacy` and `dev.spacy`, respectively, and save them to ChemREL's `scdata` directory. For this example, we have opted to use the `tok2vec` model and have thus selected the available `sc_tok2vec.cfg` config file.\n",
    "\n",
    "Note: To define a custom evaluation split or add other constraints, see the [`data-to-spacy` command reference](https://prodi.gy/docs/recipes#data-to-spacy)."
   ]
  },
  {
   "cell_type": "code",
   "execution_count": 3,
   "id": "146b4f487af97ad0",
   "metadata": {},
   "outputs": [
    {
     "name": "stdout",
     "output_type": "stream",
     "text": [
      "\u001B[38;5;4mℹ Using language 'en'\u001B[0m\n",
      "\u001B[1m\n",
      "============================== Generating data ==============================\u001B[0m\n",
      "Components: spancat\n",
      "Merging training and evaluation data for 1 components\n",
      "  - [spancat] Training: 148 | Evaluation: 37 (20% split)\n",
      "Training: 80 | Evaluation: 22\n",
      "Labels: spancat (2)\n",
      "\u001B[38;5;2m✔ Saved 80 training examples\u001B[0m\n",
      "scdata/train.spacy\n",
      "\u001B[38;5;2m✔ Saved 22 evaluation examples\u001B[0m\n",
      "scdata/dev.spacy\n",
      "\u001B[1m\n",
      "============================= Generating config =============================\u001B[0m\n",
      "\u001B[38;5;2m✔ Generated training config\u001B[0m\n",
      "\u001B[1m\n",
      "======================== Generating cached label data ========================\u001B[0m\n",
      "\u001B[38;5;2m✔ Saving label data for component 'spancat'\u001B[0m\n",
      "scdata/labels/spancat.json\n",
      "\u001B[1m\n",
      "============================= Finalizing export =============================\u001B[0m\n",
      "\u001B[38;5;2m✔ Saved training config\u001B[0m\n",
      "scdata/config.cfg\n",
      "\n",
      "To use this data for training with spaCy, you can run:\n",
      "python -m spacy train scdata/config.cfg --paths.train scdata/train.spacy --paths.dev scdata/dev.spacy\n"
     ]
    }
   ],
   "source": [
    "!python -m prodigy data-to-spacy ./scdata --spancat tg --config ./configs/sc_tok2vec.cfg"
   ]
  },
  {
   "cell_type": "markdown",
   "id": "a169ce8acb0f1749",
   "metadata": {},
   "source": [
    "## Training a New Model\n",
    "\n",
    "Now that we have generated our binary Spacy data files, it's time to train a new ChemREL Tok2Vec span categorizer model from our annotations. To do so, we will run ChemREL's `span train-cpu` command on the data files and config file we generated, as follows.\n",
    "\n",
    "Note: To end training prematurely, terminate the kernel."
   ]
  },
  {
   "cell_type": "code",
   "execution_count": 4,
   "id": "8f15e8f83de5321a",
   "metadata": {},
   "outputs": [
    {
     "name": "stdout",
     "output_type": "stream",
     "text": [
      "\u001B[38;5;4mℹ Saving to output directory: sctraining\u001B[0m\n",
      "\u001B[38;5;4mℹ Using CPU\u001B[0m\n",
      "\u001B[1m\n",
      "=========================== Initializing pipeline ===========================\u001B[0m\n",
      "[2024-04-15 08:42:35,253] [INFO] Set up nlp object from config\n",
      "[2024-04-15 08:42:35,261] [INFO] Pipeline: ['spancat']\n",
      "[2024-04-15 08:42:35,264] [INFO] Created vocabulary\n",
      "[2024-04-15 08:42:35,264] [INFO] Finished initializing nlp object\n",
      "[2024-04-15 08:42:35,362] [INFO] Initialized pipeline components: ['spancat']\n",
      "\u001B[38;5;2m✔ Initialized pipeline\u001B[0m\n",
      "\u001B[1m\n",
      "============================= Training pipeline =============================\u001B[0m\n",
      "\u001B[38;5;4mℹ Pipeline: ['spancat']\u001B[0m\n",
      "\u001B[38;5;4mℹ Initial learn rate: 0.0005\u001B[0m\n",
      "E    #       LOSS SPANCAT  SPANS_SC_F  SPANS_SC_P  SPANS_SC_R  SCORE \n",
      "---  ------  ------------  ----------  ----------  ----------  ------\n",
      "  0       0        501.80        0.00        0.00        0.00    0.00\n",
      " 10     200       2531.60        0.00        0.00        0.00    0.00\n",
      " 23     400        219.50       80.00      100.00       66.67    0.80\n",
      " 39     600         25.04      100.00      100.00      100.00    1.00\n",
      " 60     800          5.83       80.00      100.00       66.67    0.80\n",
      " 84    1000          2.10      100.00      100.00      100.00    1.00\n",
      "114    1200          2.51      100.00      100.00      100.00    1.00\n",
      "151    1400          0.53      100.00      100.00      100.00    1.00\n",
      "196    1600          0.17      100.00      100.00      100.00    1.00\n",
      "249    1800          0.15      100.00      100.00      100.00    1.00\n",
      "316    2000          0.13      100.00      100.00      100.00    1.00\n",
      "394    2200          0.05      100.00      100.00      100.00    1.00\n",
      "494    2400          0.07      100.00      100.00      100.00    1.00\n",
      "^C\n",
      "\n",
      "Aborted!\n"
     ]
    }
   ],
   "source": [
    "!chemrel span train-cpu --tok2vec-config ./scdata/config.cfg"
   ]
  },
  {
   "cell_type": "markdown",
   "id": "c98e2cfdc3722122",
   "metadata": {},
   "source": "After training is complete, the best and last trained model will be saved in the `model-best` and `model-last` folders, respectively, within the `sctraining` directory."
  },
  {
   "cell_type": "markdown",
   "id": "b398f47dd40ec38f",
   "metadata": {},
   "source": [
    "## Generating Predictions\n",
    "\n",
    "Now that we have trained a new model, we can load the model to generate predictions on unseen text. To do so, we reference the trained model file and invoke ChemREL's `predict span` command, as follows."
   ]
  },
  {
   "cell_type": "code",
   "execution_count": 5,
   "id": "622eaf4e733c0ae1",
   "metadata": {},
   "outputs": [
    {
     "name": "stdout",
     "output_type": "stream",
     "text": [
      "┏━━━┳━━━━━━━━━━━┳━━━━━━━━━┳━━━━━━━━━━━━┓\r\n",
      "┃\u001B[1m \u001B[0m\u001B[1m#\u001B[0m\u001B[1m \u001B[0m┃\u001B[1m \u001B[0m\u001B[1mSpan     \u001B[0m\u001B[1m \u001B[0m┃\u001B[1m \u001B[0m\u001B[1mLabel  \u001B[0m\u001B[1m \u001B[0m┃\u001B[1m \u001B[0m\u001B[1mConfidence\u001B[0m\u001B[1m \u001B[0m┃\r\n",
      "┡━━━╇━━━━━━━━━━━╇━━━━━━━━━╇━━━━━━━━━━━━┩\r\n",
      "│ 1 │ Ge2Sb2Te5 │ POLYMER │ 0.99874985 │\r\n",
      "│ 2 │ 398 K     │ TG      │ 0.9999907  │\r\n",
      "└───┴───────────┴─────────┴────────────┘\r\n"
     ]
    }
   ],
   "source": [
    "!chemrel predict span ./sctraining/model-best \"The polymer Ge2Sb2Te5 had transition temperature Tg = 398 K\""
   ]
  },
  {
   "cell_type": "markdown",
   "id": "8af21fd6c823e43e",
   "metadata": {},
   "source": [
    "Alternatively, the prediction functionality can be invoked via code by importing the `chemrel.functions.predict` submodule, as follows."
   ]
  },
  {
   "cell_type": "code",
   "execution_count": 6,
   "id": "166f150e49ac7611",
   "metadata": {},
   "outputs": [
    {
     "data": {
      "text/plain": [
       "{'POLYMER': [('Ge2Sb2Te5', 0.99874985)], 'TG': [('398 K', 0.9999907)]}"
      ]
     },
     "execution_count": 6,
     "metadata": {},
     "output_type": "execute_result"
    }
   ],
   "source": [
    "from chemrel.functions import predict\n",
    "\n",
    "predict.predict_span(\"sctraining/model-best\", \"The polymer Ge2Sb2Te5 had transition temperature Tg = 398 K\")"
   ]
  },
  {
   "cell_type": "markdown",
   "id": "990f811244d7cbc7",
   "metadata": {},
   "source": [
    "Nice work! You have successfully trained your first ChemREL extraction model. To view the full CLI documentation for ChemREL, and to learn about ChemREL's additional functionality such as how to train relation extraction and transfer learning models, see the CLI Reference page [here](https://peesegroup.github.io/ChemREL/cli.html)."
   ]
  }
 ],
 "metadata": {
  "kernelspec": {
   "display_name": "Python 3 (ipykernel)",
   "language": "python",
   "name": "python3"
  },
  "language_info": {
   "codemirror_mode": {
    "name": "ipython",
    "version": 3
   },
   "file_extension": ".py",
   "mimetype": "text/x-python",
   "name": "python",
   "nbconvert_exporter": "python",
   "pygments_lexer": "ipython3",
   "version": "3.10.6"
  }
 },
 "nbformat": 4,
 "nbformat_minor": 5
}
